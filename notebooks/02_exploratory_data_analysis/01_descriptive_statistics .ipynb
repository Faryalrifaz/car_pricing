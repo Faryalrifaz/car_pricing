{
 "cells": [
  {
   "cell_type": "markdown",
   "id": "93228a75",
   "metadata": {},
   "source": [
    "#  Descriptive Statistics"
   ]
  },
  {
   "cell_type": "markdown",
   "id": "1109c7ab",
   "metadata": {},
   "source": [
    "## Import Libraries "
   ]
  },
  {
   "cell_type": "code",
   "execution_count": 12,
   "id": "361557b5",
   "metadata": {},
   "outputs": [],
   "source": [
    " import pandas as pd \n",
    " import numpy as np\n",
    " import seaborn as sns\n",
    " import matplotlib.pyplot as plt \n"
   ]
  },
  {
   "cell_type": "markdown",
   "id": "66465dc2",
   "metadata": {},
   "source": [
    "## Import Data "
   ]
  },
  {
   "cell_type": "code",
   "execution_count": 13,
   "id": "01e409f6",
   "metadata": {},
   "outputs": [
    {
     "name": "stdout",
     "output_type": "stream",
     "text": [
      "   symboling  normalized-losses  wheel-base  length   width  height  \\\n",
      "0          3                122        88.6  0.8111  0.8903  0.8161   \n",
      "1          3                122        88.6  0.8111  0.8903  0.8161   \n",
      "2          1                122        94.5  0.8227  0.9097  0.8763   \n",
      "3          2                164        99.8  0.8486  0.9194  0.9080   \n",
      "4          2                164        99.4  0.8486  0.9222  0.9080   \n",
      "\n",
      "   curb-weight  engine-size  bore  stroke  compression-ratio  horsepower  \\\n",
      "0         2548          130  3.47    2.68                9.0         111   \n",
      "1         2548          130  3.47    2.68                9.0         111   \n",
      "2         2823          152  2.68    3.47                9.0         154   \n",
      "3         2337          109  3.19    3.40               10.0         102   \n",
      "4         2824          136  3.19    3.40                8.0         115   \n",
      "\n",
      "   peak-rpm  city-mpg  highway-mpg    price  city-L/100km  \n",
      "0    5000.0        21       8.7037  13495.0       11.1905  \n",
      "1    5000.0        21       8.7037  16500.0       11.1905  \n",
      "2    5000.0        19       9.0385  16500.0       12.3684  \n",
      "3    5500.0        24       7.8333  13950.0        9.7917  \n",
      "4    5500.0        18      10.6818  17450.0       13.0556  \n"
     ]
    }
   ],
   "source": [
    "df = pd.read_csv('F:\\\\projects\\\\car_pricing\\\\data\\\\saved_data.csv')\n",
    "print(df.head())"
   ]
  },
  {
   "cell_type": "code",
   "execution_count": 14,
   "id": "4b2de21d",
   "metadata": {},
   "outputs": [
    {
     "name": "stdout",
     "output_type": "stream",
     "text": [
      "   symboling  normalized-losses  wheel-base  length   width  height  \\\n",
      "0          3                122        88.6  0.8111  0.8903  0.8161   \n",
      "1          3                122        88.6  0.8111  0.8903  0.8161   \n",
      "2          1                122        94.5  0.8227  0.9097  0.8763   \n",
      "3          2                164        99.8  0.8486  0.9194  0.9080   \n",
      "4          2                164        99.4  0.8486  0.9222  0.9080   \n",
      "\n",
      "   curb-weight  engine-size  bore  stroke  compression-ratio  horsepower  \\\n",
      "0         2548          130  3.47    2.68                9.0         111   \n",
      "1         2548          130  3.47    2.68                9.0         111   \n",
      "2         2823          152  2.68    3.47                9.0         154   \n",
      "3         2337          109  3.19    3.40               10.0         102   \n",
      "4         2824          136  3.19    3.40                8.0         115   \n",
      "\n",
      "   peak-rpm  city-mpg  highway-mpg  city-L/100km  \n",
      "0    5000.0        21       8.7037       11.1905  \n",
      "1    5000.0        21       8.7037       11.1905  \n",
      "2    5000.0        19       9.0385       12.3684  \n",
      "3    5500.0        24       7.8333        9.7917  \n",
      "4    5500.0        18      10.6818       13.0556  \n"
     ]
    }
   ],
   "source": [
    " X = df.drop(columns=['price'])\n",
    "y = df['price']\n",
    "print(X.head())"
   ]
  },
  {
   "cell_type": "code",
   "execution_count": 15,
   "id": "52894ddd",
   "metadata": {},
   "outputs": [
    {
     "name": "stdout",
     "output_type": "stream",
     "text": [
      "        symboling  normalized-losses  wheel-base      length       width  \\\n",
      "count  201.000000          201.00000  201.000000  201.000000  201.000000   \n",
      "mean     0.840796          122.00000   98.797015    0.837104    0.915119   \n",
      "std      1.254802           31.99625    6.066366    0.059220    0.029191   \n",
      "min     -2.000000           65.00000   86.600000    0.678000    0.837500   \n",
      "25%      0.000000          101.00000   94.500000    0.801500    0.890300   \n",
      "50%      1.000000          122.00000   97.000000    0.832300    0.909700   \n",
      "75%      2.000000          137.00000  102.400000    0.881800    0.925000   \n",
      "max      3.000000          256.00000  120.900000    1.000000    1.000000   \n",
      "\n",
      "           height  curb-weight  engine-size        bore      stroke  \\\n",
      "count  201.000000   201.000000   201.000000  201.000000  201.000000   \n",
      "mean     0.899111  2555.666667   126.875622    3.330693    3.256874   \n",
      "std      0.040929   517.296727    41.546834    0.268072    0.316048   \n",
      "min      0.799300  1488.000000    61.000000    2.540000    2.070000   \n",
      "25%      0.869600  2169.000000    98.000000    3.150000    3.110000   \n",
      "50%      0.904700  2414.000000   120.000000    3.310000    3.290000   \n",
      "75%      0.928100  2926.000000   141.000000    3.580000    3.410000   \n",
      "max      1.000000  4066.000000   326.000000    3.940000    4.170000   \n",
      "\n",
      "       compression-ratio  horsepower     peak-rpm    city-mpg  highway-mpg  \\\n",
      "count         201.000000  201.000000   201.000000  201.000000   201.000000   \n",
      "mean           10.164279  103.402985  5117.665368   25.179104     8.044963   \n",
      "std             4.004965   37.365650   478.113805    6.423220     1.840738   \n",
      "min             7.000000   48.000000  4150.000000   13.000000     4.351900   \n",
      "25%             8.600000   70.000000  4800.000000   19.000000     6.911800   \n",
      "50%             9.000000   95.000000  5125.369500   24.000000     7.833300   \n",
      "75%             9.400000  116.000000  5500.000000   30.000000     9.400000   \n",
      "max            23.000000  262.000000  6600.000000   49.000000    14.687500   \n",
      "\n",
      "              price  city-L/100km  \n",
      "count    201.000000    201.000000  \n",
      "mean   13207.129353      9.944143  \n",
      "std     7947.066342      2.534599  \n",
      "min     5118.000000      4.795900  \n",
      "25%     7775.000000      7.833300  \n",
      "50%    10295.000000      9.791700  \n",
      "75%    16500.000000     12.368400  \n",
      "max    45400.000000     18.076900  \n"
     ]
    }
   ],
   "source": [
    "print(df.describe())"
   ]
  },
  {
   "cell_type": "code",
   "execution_count": 16,
   "id": "3c2a5450",
   "metadata": {},
   "outputs": [
    {
     "name": "stdout",
     "output_type": "stream",
     "text": [
      "<class 'pandas.core.frame.DataFrame'>\n",
      "RangeIndex: 201 entries, 0 to 200\n",
      "Data columns (total 17 columns):\n",
      " #   Column             Non-Null Count  Dtype  \n",
      "---  ------             --------------  -----  \n",
      " 0   symboling          201 non-null    int64  \n",
      " 1   normalized-losses  201 non-null    int64  \n",
      " 2   wheel-base         201 non-null    float64\n",
      " 3   length             201 non-null    float64\n",
      " 4   width              201 non-null    float64\n",
      " 5   height             201 non-null    float64\n",
      " 6   curb-weight        201 non-null    int64  \n",
      " 7   engine-size        201 non-null    int64  \n",
      " 8   bore               201 non-null    float64\n",
      " 9   stroke             201 non-null    float64\n",
      " 10  compression-ratio  201 non-null    float64\n",
      " 11  horsepower         201 non-null    int64  \n",
      " 12  peak-rpm           201 non-null    float64\n",
      " 13  city-mpg           201 non-null    int64  \n",
      " 14  highway-mpg        201 non-null    float64\n",
      " 15  price              201 non-null    float64\n",
      " 16  city-L/100km       201 non-null    float64\n",
      "dtypes: float64(11), int64(6)\n",
      "memory usage: 26.8 KB\n",
      "None\n",
      "                   symboling  normalized-losses  wheel-base    length  \\\n",
      "symboling           1.000000           0.466264   -0.535987 -0.365423   \n",
      "normalized-losses   0.466264           1.000000   -0.056661  0.019486   \n",
      "wheel-base         -0.535987          -0.056661    1.000000  0.876044   \n",
      "length             -0.365423           0.019486    0.876044  1.000000   \n",
      "width              -0.242282           0.087004    0.814400  0.857125   \n",
      "height             -0.550189          -0.373723    0.590770  0.492075   \n",
      "curb-weight        -0.233118           0.099404    0.782097  0.880685   \n",
      "engine-size        -0.110581           0.112360    0.572027  0.685004   \n",
      "bore               -0.140013          -0.029859    0.493242  0.608937   \n",
      "stroke             -0.008155           0.055044    0.158019  0.123977   \n",
      "compression-ratio  -0.182196          -0.114713    0.250313  0.159684   \n",
      "horsepower          0.075810           0.217300    0.371178  0.579809   \n",
      "peak-rpm            0.279740           0.239543   -0.360305 -0.285861   \n",
      "city-mpg           -0.035527          -0.225016   -0.470606 -0.665187   \n",
      "highway-mpg        -0.029808           0.181187    0.577577  0.707108   \n",
      "price              -0.082391           0.133999    0.584642  0.690599   \n",
      "city-L/100km        0.066170           0.238567    0.476155  0.657371   \n",
      "\n",
      "                      width    height  curb-weight  engine-size      bore  \\\n",
      "symboling         -0.242282 -0.550189    -0.233118    -0.110581 -0.140013   \n",
      "normalized-losses  0.087004 -0.373723     0.099404     0.112360 -0.029859   \n",
      "wheel-base         0.814400  0.590770     0.782097     0.572027  0.493242   \n",
      "length             0.857125  0.492075     0.880685     0.685004  0.608937   \n",
      "width              1.000000  0.305905     0.866232     0.729529  0.544798   \n",
      "height             0.305905  1.000000     0.307597     0.074709  0.180472   \n",
      "curb-weight        0.866232  0.307597     1.000000     0.849072  0.644059   \n",
      "engine-size        0.729529  0.074709     0.849072     1.000000  0.572605   \n",
      "bore               0.544798  0.180472     0.644059     0.572605  1.000000   \n",
      "stroke             0.188916 -0.060623     0.167438     0.205930 -0.055390   \n",
      "compression-ratio  0.189834  0.259752     0.156433     0.028889  0.001263   \n",
      "horsepower         0.615182 -0.087002     0.757981     0.822668  0.566904   \n",
      "peak-rpm          -0.245621 -0.310026    -0.279361    -0.256733 -0.267385   \n",
      "city-mpg          -0.633614 -0.049785    -0.749543    -0.650546 -0.582032   \n",
      "highway-mpg        0.736793  0.084283     0.836921     0.783464  0.559117   \n",
      "price              0.751403  0.135466     0.834415     0.872335  0.543155   \n",
      "city-L/100km       0.673463  0.003773     0.785355     0.745060  0.554619   \n",
      "\n",
      "                     stroke  compression-ratio  horsepower  peak-rpm  \\\n",
      "symboling         -0.008155          -0.182196    0.075810  0.279740   \n",
      "normalized-losses  0.055044          -0.114713    0.217300  0.239543   \n",
      "wheel-base         0.158019           0.250313    0.371178 -0.360305   \n",
      "length             0.123977           0.159684    0.579809 -0.285861   \n",
      "width              0.188916           0.189834    0.615182 -0.245621   \n",
      "height            -0.060623           0.259752   -0.087002 -0.310026   \n",
      "curb-weight        0.167438           0.156433    0.757981 -0.279361   \n",
      "engine-size        0.205930           0.028889    0.822668 -0.256733   \n",
      "bore              -0.055390           0.001263    0.566904 -0.267385   \n",
      "stroke             1.000000           0.187872    0.098127 -0.063564   \n",
      "compression-ratio  0.187872           1.000000   -0.214489 -0.435780   \n",
      "horsepower         0.098127          -0.214489    1.000000  0.107884   \n",
      "peak-rpm          -0.063564          -0.435780    0.107884  1.000000   \n",
      "city-mpg          -0.033954           0.331425   -0.822192 -0.115413   \n",
      "highway-mpg        0.047086          -0.223363    0.840626  0.017693   \n",
      "price              0.082269           0.071107    0.809607 -0.101616   \n",
      "city-L/100km       0.036131          -0.299370    0.889482  0.115828   \n",
      "\n",
      "                   city-mpg  highway-mpg     price  city-L/100km  \n",
      "symboling         -0.035527    -0.029808 -0.082391      0.066170  \n",
      "normalized-losses -0.225016     0.181187  0.133999      0.238567  \n",
      "wheel-base        -0.470606     0.577577  0.584642      0.476155  \n",
      "length            -0.665187     0.707108  0.690599      0.657371  \n",
      "width             -0.633614     0.736793  0.751403      0.673463  \n",
      "height            -0.049785     0.084283  0.135466      0.003773  \n",
      "curb-weight       -0.749543     0.836921  0.834415      0.785355  \n",
      "engine-size       -0.650546     0.783464  0.872335      0.745060  \n",
      "bore              -0.582032     0.559117  0.543155      0.554619  \n",
      "stroke            -0.033954     0.047086  0.082269      0.036131  \n",
      "compression-ratio  0.331425    -0.223363  0.071107     -0.299370  \n",
      "horsepower        -0.822192     0.840626  0.809607      0.889482  \n",
      "peak-rpm          -0.115413     0.017693 -0.101616      0.115828  \n",
      "city-mpg           1.000000    -0.909024 -0.686571     -0.949713  \n",
      "highway-mpg       -0.909024     1.000000  0.801117      0.958306  \n",
      "price             -0.686571     0.801117  1.000000      0.789898  \n",
      "city-L/100km      -0.949713     0.958306  0.789898      1.000000  \n",
      "symboling              6\n",
      "normalized-losses     51\n",
      "wheel-base            52\n",
      "length                73\n",
      "width                 43\n",
      "height                49\n",
      "curb-weight          169\n",
      "engine-size           43\n",
      "bore                  39\n",
      "stroke                37\n",
      "compression-ratio     32\n",
      "horsepower            59\n",
      "peak-rpm              23\n",
      "city-mpg              29\n",
      "highway-mpg           30\n",
      "price                186\n",
      "city-L/100km          29\n",
      "dtype: int64\n",
      "symboling\n",
      " 0    65\n",
      " 1    52\n",
      " 2    32\n",
      " 3    27\n",
      "-1    22\n",
      "-2     3\n",
      "Name: count, dtype: int64\n"
     ]
    }
   ],
   "source": [
    "# Data types and missing values\n",
    "print(df.info())\n",
    "\n",
    "# Correlation matrix\n",
    "print(df.corr())\n",
    "\n",
    "# Unique values per column\n",
    "print(df.nunique())\n",
    "\n",
    "# Value counts for 'symboling' column as an example\n",
    "print(df['symboling'].value_counts())"
   ]
  },
  {
   "cell_type": "markdown",
   "id": "0182cfc8",
   "metadata": {},
   "source": [
    "# Conclusion\n",
    "The dataset provides comprehensive information about car features and their prices. Descriptive statistics and data exploration have revealed the distribution, correlations, and unique characteristics of each variable. This analysis sets a solid foundation for further modeling and predictive analytics."
   ]
  }
 ],
 "metadata": {
  "kernelspec": {
   "display_name": "Python 3",
   "language": "python",
   "name": "python3"
  },
  "language_info": {
   "codemirror_mode": {
    "name": "ipython",
    "version": 3
   },
   "file_extension": ".py",
   "mimetype": "text/x-python",
   "name": "python",
   "nbconvert_exporter": "python",
   "pygments_lexer": "ipython3",
   "version": "3.10.0"
  }
 },
 "nbformat": 4,
 "nbformat_minor": 5
}
