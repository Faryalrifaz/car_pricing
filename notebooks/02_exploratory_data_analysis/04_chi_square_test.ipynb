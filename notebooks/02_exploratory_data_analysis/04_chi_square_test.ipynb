{
 "cells": [
  {
   "cell_type": "markdown",
   "id": "9d70b2b9",
   "metadata": {},
   "source": [
    "# **Chi-Square Test for Categorical Variables**\n",
    "\n",
    "## Introduction\n",
    "The chi-square test is a statistical method used to determine if there is a significant association between two categorical variables. This test is widely used in various fields, including social sciences, marketing, and healthcare, to analyze survey data, experimental results, and observational studies.\n",
    "\n",
    "## Concept\n",
    "The chi-square test is a non-parametric statistical method that evaluates whether the observed frequencies in each category differ significantly from the expected frequencies—assuming no association between the variables.\n",
    "\n",
    "The test is based on the chi-square distribution, which is a family of distributions defined by degrees of freedom (df). These distributions are right-skewed and vary depending on df. A chi-square distribution table lists critical values for given df and significance levels (α), which we use to assess if our computed test statistic is extreme enough to reject the null hypothesis.\n",
    "\n",
    "## Null Hypothesis and Alternative Hypothesis\n",
    "The chi-square test involves formulating two hypotheses:\n",
    "\n",
    "Null Hypothesis ( 𝐻_0 ) - Assumes that there is no association between the categorical variables, implying that any observed differences are due to random chance.\n",
    "\n",
    "Alternative Hypothesis (H_1 ) - Assumes that there is a significant association between the variables, indicating that the observed differences are not due to chance alone.\n",
    "\n",
    "## Formula\n",
    "The chi-square statistic is calculated using the formula:\n",
    "\n",
    "\\chi^2 = \\sum \\frac{(O_i - E_i)^2}{E_i}\n",
    "\n",
    "where\n",
    "O_i is the observed frequency for category i .\n",
    "E_i is the expected frequency for category i , calculated as:\n",
    "\n",
    "E_i = \\frac{(row \\ total \\times column\\ total)}{grand \\ total}\n",
    "\n",
    "The sum is taken over all cells in the contingency table.\n",
    "\n",
    "The calculated chi-square statistic is then compared to a critical value from the chi-square distribution table. This table provides critical values for different degrees of freedom (df) and significance levels ( \\alpha ) .\n",
    "\n",
    "The degrees of freedom for the test are calculated as:\n",
    "\n",
    "df = (r - 1) \\times (c - 1)\n",
    "\n",
    "where r is the number of rows and c is the number of columns in the table.\n",
    "\n",
    "## Chi-Square Distribution Table\n",
    "A chi-square distribution table provides critical values that vary by degrees of freedom and the significance level (α). These values indicate the threshold beyond which the test statistic would be considered statistically significant.\n",
    "\n",
    "For example:\n",
    "\n",
    "df = 1, α = 0.05, the critical value is 3.841\n",
    "\n",
    "If your calculated χ² > 3.841, you reject H₀\n",
    "\n",
    "If χ² ≤ 3.841, you fail to reject H₀\n",
    "\n",
    "The higher the χ² value, the stronger the evidence against H₀."
   ]
  },
  {
   "cell_type": "code",
   "execution_count": 2,
   "id": "40e558ca",
   "metadata": {},
   "outputs": [
    {
     "name": "stdout",
     "output_type": "stream",
     "text": [
      "Chi-square Statistic: 0.6464646464646464\n",
      "Degrees of Freedom: 1\n",
      "P-value: 0.4213795037428697\n",
      "Expected Frequencies:\n",
      " [[22.5 27.5]\n",
      " [22.5 27.5]]\n"
     ]
    }
   ],
   "source": [
    "import pandas as pd\n",
    "from scipy.stats import chi2_contingency\n",
    "# Create the contingency table\n",
    "data = [[20, 30],  # Male: [Like, Dislike]\n",
    "        [25, 25]]  # Female: [Like, Dislike]\n",
    "# Create a DataFrame for clarity\n",
    "df = pd.DataFrame(data, columns=[\"Like\", \"Dislike\"], index=[\"Male\", \"Female\"])\n",
    "# Perform the Chi-Square Test\n",
    "chi2, p, dof, expected = chi2_contingency(df)\n",
    "# Display results\n",
    "print(\"Chi-square Statistic:\", chi2)\n",
    "print(\"Degrees of Freedom:\", dof)\n",
    "print(\"P-value:\", p)\n",
    "print(\"Expected Frequencies:\\n\", expected)"
   ]
  },
  {
   "cell_type": "markdown",
   "id": "cf3bdacd",
   "metadata": {},
   "source": [
    "Interpretation: Since the p-value (0.4213) > 0.05, we fail to reject the null hypothesis—indicating no significant association."
   ]
  }
 ],
 "metadata": {
  "kernelspec": {
   "display_name": "Python 3",
   "language": "python",
   "name": "python3"
  },
  "language_info": {
   "codemirror_mode": {
    "name": "ipython",
    "version": 3
   },
   "file_extension": ".py",
   "mimetype": "text/x-python",
   "name": "python",
   "nbconvert_exporter": "python",
   "pygments_lexer": "ipython3",
   "version": "3.10.0"
  }
 },
 "nbformat": 4,
 "nbformat_minor": 5
}
